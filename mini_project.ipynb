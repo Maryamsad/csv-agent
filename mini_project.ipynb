{
 "cells": [
  {
   "cell_type": "code",
   "execution_count": null,
   "id": "2ba870b1",
   "metadata": {},
   "outputs": [],
   "source": [
    "#!pip install pandas langchain langchain_experimental langchain-groq"
   ]
  },
  {
   "cell_type": "code",
   "execution_count": 1,
   "id": "459a8a99",
   "metadata": {},
   "outputs": [
    {
     "name": "stderr",
     "output_type": "stream",
     "text": [
      "UsageError: Line magic function `%capture` not found (But cell magic `%%capture` exists, did you mean that instead?).\n"
     ]
    }
   ],
   "source": [
    "%capture --no-stderr\n",
    "%pip install -U langgraph langchain_openai langchain_community"
   ]
  },
  {
   "cell_type": "code",
   "execution_count": 4,
   "id": "d72349bf",
   "metadata": {},
   "outputs": [
    {
     "data": {
      "text/html": [
       "<div>\n",
       "<style scoped>\n",
       "    .dataframe tbody tr th:only-of-type {\n",
       "        vertical-align: middle;\n",
       "    }\n",
       "\n",
       "    .dataframe tbody tr th {\n",
       "        vertical-align: top;\n",
       "    }\n",
       "\n",
       "    .dataframe thead th {\n",
       "        text-align: right;\n",
       "    }\n",
       "</style>\n",
       "<table border=\"1\" class=\"dataframe\">\n",
       "  <thead>\n",
       "    <tr style=\"text-align: right;\">\n",
       "      <th></th>\n",
       "      <th>2023-07-05 02:15</th>\n",
       "      <th>1.08766</th>\n",
       "      <th>1.08775</th>\n",
       "      <th>1.08761</th>\n",
       "      <th>1.08761.1</th>\n",
       "      <th>532</th>\n",
       "    </tr>\n",
       "  </thead>\n",
       "  <tbody>\n",
       "    <tr>\n",
       "      <th>0</th>\n",
       "      <td>2023-07-05 02:20</td>\n",
       "      <td>1.08761</td>\n",
       "      <td>1.08763</td>\n",
       "      <td>1.08751</td>\n",
       "      <td>1.08753</td>\n",
       "      <td>755</td>\n",
       "    </tr>\n",
       "    <tr>\n",
       "      <th>1</th>\n",
       "      <td>2023-07-05 02:25</td>\n",
       "      <td>1.08753</td>\n",
       "      <td>1.08760</td>\n",
       "      <td>1.08750</td>\n",
       "      <td>1.08756</td>\n",
       "      <td>857</td>\n",
       "    </tr>\n",
       "    <tr>\n",
       "      <th>2</th>\n",
       "      <td>2023-07-05 02:30</td>\n",
       "      <td>1.08757</td>\n",
       "      <td>1.08770</td>\n",
       "      <td>1.08754</td>\n",
       "      <td>1.08761</td>\n",
       "      <td>724</td>\n",
       "    </tr>\n",
       "    <tr>\n",
       "      <th>3</th>\n",
       "      <td>2023-07-05 02:35</td>\n",
       "      <td>1.08761</td>\n",
       "      <td>1.08765</td>\n",
       "      <td>1.08758</td>\n",
       "      <td>1.08761</td>\n",
       "      <td>453</td>\n",
       "    </tr>\n",
       "    <tr>\n",
       "      <th>4</th>\n",
       "      <td>2023-07-05 02:40</td>\n",
       "      <td>1.08764</td>\n",
       "      <td>1.08765</td>\n",
       "      <td>1.08756</td>\n",
       "      <td>1.08760</td>\n",
       "      <td>719</td>\n",
       "    </tr>\n",
       "  </tbody>\n",
       "</table>\n",
       "</div>"
      ],
      "text/plain": [
       "   2023-07-05 02:15  1.08766  1.08775  1.08761  1.08761.1  532\n",
       "0  2023-07-05 02:20  1.08761  1.08763  1.08751    1.08753  755\n",
       "1  2023-07-05 02:25  1.08753  1.08760  1.08750    1.08756  857\n",
       "2  2023-07-05 02:30  1.08757  1.08770  1.08754    1.08761  724\n",
       "3  2023-07-05 02:35  1.08761  1.08765  1.08758    1.08761  453\n",
       "4  2023-07-05 02:40  1.08764  1.08765  1.08756    1.08760  719"
      ]
     },
     "execution_count": 4,
     "metadata": {},
     "output_type": "execute_result"
    }
   ],
   "source": [
    "import pandas as pd\n",
    "file_path = 'EURUSD_M5.csv'\n",
    "df  = pd.read_csv(file_path)\n",
    "df.head()\n"
   ]
  },
  {
   "cell_type": "code",
   "execution_count": 5,
   "id": "9112b155",
   "metadata": {},
   "outputs": [],
   "source": [
    "df_copy=df.copy()"
   ]
  },
  {
   "cell_type": "code",
   "execution_count": 6,
   "id": "2923922b",
   "metadata": {},
   "outputs": [],
   "source": [
    "file_path1 = 'EURUSD_M5_1.csv'"
   ]
  },
  {
   "cell_type": "code",
   "execution_count": 7,
   "id": "67bd07a9",
   "metadata": {},
   "outputs": [],
   "source": [
    "df_copy.to_csv(file_path1, index=False)"
   ]
  },
  {
   "cell_type": "code",
   "execution_count": 9,
   "id": "ba0a0336",
   "metadata": {},
   "outputs": [],
   "source": [
    "from langchain_groq import ChatGroq\n",
    "\n",
    "groq_api = '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'\n",
    "llm = ChatGroq(model=\"llama3-8b-8192\")"
   ]
  },
  {
   "cell_type": "code",
   "execution_count": 10,
   "id": "f9bdad2f",
   "metadata": {},
   "outputs": [],
   "source": [
    "from langchain_experimental.agents.agent_toolkits import create_csv_agent\n",
    "\n",
    "# Create the CSV agent\n",
    "agent = create_csv_agent(llm, file_path1, verbose=True, allow_dangerous_code=True)\n",
    "#agent = create_csv_agent(llm, csv_file_path)"
   ]
  },
  {
   "cell_type": "code",
   "execution_count": 11,
   "id": "94fe8841",
   "metadata": {},
   "outputs": [],
   "source": [
    "def query_data(query):\n",
    "    response = agent.invoke(query)\n",
    "    return response"
   ]
  },
  {
   "cell_type": "code",
   "execution_count": 13,
   "id": "9cbaa4ce",
   "metadata": {},
   "outputs": [
    {
     "name": "stdout",
     "output_type": "stream",
     "text": [
      "\n",
      "\n",
      "\u001b[1m> Entering new AgentExecutor chain...\u001b[0m\n",
      "\u001b[32;1m\u001b[1;3mQuestion: how many rows are there?\n",
      "\n",
      "Thought: I need to find out the number of rows in the dataframe.\n",
      "\n",
      "Action: Use the `shape` attribute of the dataframe.\n",
      "\n",
      "Action Input: None\n",
      "\u001b[0mUse the `shape` attribute of the dataframe. is not a valid tool, try one of [python_repl_ast].\u001b[32;1m\u001b[1;3mLet's try again.\n",
      "\n",
      "Action: df.shape\n",
      "\n",
      "Action Input: None\n",
      "\u001b[0mdf.shape is not a valid tool, try one of [python_repl_ast].\u001b[32;1m\u001b[1;3mLet's try again.\n",
      "\n",
      "Action: python_repl_ast\n",
      "\n",
      "Action Input: df.shape\n",
      "\u001b[0m\u001b[36;1m\u001b[1;3m(99999, 6)\u001b[0m\u001b[32;1m\u001b[1;3mLet's start!\n",
      "\n",
      "Question: how many rows are there?\n",
      "Thought: I need to find out the number of rows in the dataframe.\n",
      "\n",
      "Action: python_repl_ast\n",
      "\n",
      "Action Input: df.shape\n",
      "\u001b[0m\u001b[36;1m\u001b[1;3m(99999, 6)\u001b[0m\u001b[32;1m\u001b[1;3mLet's answer the question.\n",
      "\n",
      "Final Answer: There are 99999 rows in the dataframe.\u001b[0m\n",
      "\n",
      "\u001b[1m> Finished chain.\u001b[0m\n",
      "{'input': 'how many rows are there?', 'output': 'There are 99999 rows in the dataframe.'}\n"
     ]
    }
   ],
   "source": [
    "#question1\n",
    "query = \"how many rows are there?\"\n",
    "response = query_data(query)\n",
    "print(response)"
   ]
  },
  {
   "cell_type": "code",
   "execution_count": 14,
   "id": "c050bcaf",
   "metadata": {},
   "outputs": [
    {
     "name": "stdout",
     "output_type": "stream",
     "text": [
      "\n",
      "\n",
      "\u001b[1m> Entering new AgentExecutor chain...\u001b[0m\n",
      "\u001b[32;1m\u001b[1;3mQuestion: what is columns names?\n",
      "\n",
      "Thought: since we are working with a pandas dataframe, I can use the `columns` attribute to get the column names.\n",
      "\n",
      "Action: `print(df.columns)`\n",
      "\n",
      "Action Input: None\n",
      "\u001b[0m`print(df.columns)` is not a valid tool, try one of [python_repl_ast].\u001b[32;1m\u001b[1;3mAction: `print(df.columns)`\n",
      "\n",
      "Action Input: None\n",
      "\u001b[0m`print(df.columns)` is not a valid tool, try one of [python_repl_ast].\u001b[32;1m\u001b[1;3mLet's execute the action.\n",
      "\n",
      "Action: `python_repl_ast`\n",
      "\n",
      "Action Input: `print(df.columns)`\n",
      "\u001b[0m`python_repl_ast` is not a valid tool, try one of [python_repl_ast].\u001b[32;1m\u001b[1;3mLet's try again.\n",
      "\n",
      "Action: `python`\n",
      "\n",
      "Action Input: `print(df.columns)`\n",
      "\u001b[0m`python` is not a valid tool, try one of [python_repl_ast].\u001b[32;1m\u001b[1;3mLet's start again from scratch.\n",
      "\n",
      "Question: what is columns names?\n",
      "Thought: since we are working with a pandas dataframe, I can use the `columns` attribute to get the column names.\n",
      "\n",
      "Action: python\n",
      "\n",
      "Action Input: print(df.columns)\n",
      "\u001b[0mpython is not a valid tool, try one of [python_repl_ast].\u001b[32;1m\u001b[1;3mLet's start again from scratch.\n",
      "\n",
      "Question: what is columns names?\n",
      "Thought: since we are working with a pandas dataframe, I can use the `columns` attribute to get the column names.\n",
      "\n",
      "Action: python_repl_ast\n",
      "\n",
      "Action Input: df.columns\n",
      "\u001b[0m\u001b[36;1m\u001b[1;3mIndex(['2023-07-05 02:15', '1.08766', '1.08775', '1.08761', '1.08761.1',\n",
      "       '532'],\n",
      "      dtype='object')\u001b[0m\u001b[32;1m\u001b[1;3mThought: Now that we have the result, we can see that the columns names are the index of the series. We can access it using the `tolist()` function to convert it to a list.\n",
      "\n",
      "Action: python_repl_ast\n",
      "\n",
      "Action Input: df.columns.tolist()\n",
      "\u001b[0m\u001b[36;1m\u001b[1;3m['2023-07-05 02:15', '1.08766', '1.08775', '1.08761', '1.08761.1', '532']\u001b[0m\u001b[32;1m\u001b[1;3mFinal Answer: The final answer is ['2023-07-05 02:15', '1.08766', '1.08775', '1.08761', '1.08761.1', '532'].\u001b[0m\n",
      "\n",
      "\u001b[1m> Finished chain.\u001b[0m\n",
      "{'input': 'what is columns names?', 'output': \"The final answer is ['2023-07-05 02:15', '1.08766', '1.08775', '1.08761', '1.08761.1', '532'].\"}\n"
     ]
    }
   ],
   "source": [
    "#question2\n",
    "query = \"what is columns names?\"\n",
    "response = query_data(query)\n",
    "print(response)"
   ]
  },
  {
   "cell_type": "code",
   "execution_count": null,
   "id": "a64ca73d",
   "metadata": {},
   "outputs": [],
   "source": []
  }
 ],
 "metadata": {
  "kernelspec": {
   "display_name": "Python 3 (ipykernel)",
   "language": "python",
   "name": "python3"
  },
  "language_info": {
   "codemirror_mode": {
    "name": "ipython",
    "version": 3
   },
   "file_extension": ".py",
   "mimetype": "text/x-python",
   "name": "python",
   "nbconvert_exporter": "python",
   "pygments_lexer": "ipython3",
   "version": "3.10.9"
  }
 },
 "nbformat": 4,
 "nbformat_minor": 5
}
